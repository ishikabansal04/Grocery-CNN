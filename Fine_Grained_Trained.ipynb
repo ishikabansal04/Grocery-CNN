{
  "cells": [
    {
      "cell_type": "code",
      "execution_count": null,
      "metadata": {
        "colab": {
          "base_uri": "https://localhost:8080/",
          "height": 35
        },
        "id": "u-wr-UoLOrW8",
        "outputId": "2a3570f6-f006-49a8-f061-5c94f72f18af"
      },
      "outputs": [
        {
          "data": {
            "application/vnd.google.colaboratory.intrinsic+json": {
              "type": "string"
            },
            "text/plain": [
              "''"
            ]
          },
          "execution_count": 1,
          "metadata": {},
          "output_type": "execute_result"
        }
      ],
      "source": [
        "import cv2\n",
        "import numpy as np\n",
        "import pickle\n",
        "import cv2\n",
        "import os\n",
        "from os import listdir\n",
        "from keras.preprocessing import image\n",
        "from keras.preprocessing.image import img_to_array\n",
        "from sklearn.preprocessing import LabelBinarizer\n",
        "from sklearn.preprocessing import MultiLabelBinarizer\n",
        "from sklearn.model_selection import train_test_split\n",
        "import matplotlib.pyplot as plt\n",
        "import pandas as pd\n",
        "\n",
        "import matplotlib.pyplot as plt\n",
        "import matplotlib.image as mpimg\n",
        "\n",
        "from tensorflow.keras.models import Sequential\n",
        "from keras.layers import BatchNormalization\n",
        "from keras.layers.convolutional import Conv2D\n",
        "from keras.layers.convolutional import MaxPooling2D\n",
        "from keras.layers.core import Activation, Flatten, Dropout, Dense\n",
        "from keras import backend as K\n",
        "#from keras.optimizers import Adam\n",
        "import tensorflow as tf\n",
        "from tensorflow.keras import datasets, layers, models\n",
        "from keras.utils import np_utils\n",
        "from keras import regularizers\n",
        "from keras.preprocessing.image import ImageDataGenerator\n",
        "tf.test.gpu_device_name()"
      ]
    },
    {
      "cell_type": "code",
      "execution_count": null,
      "metadata": {
        "colab": {
          "base_uri": "https://localhost:8080/"
        },
        "id": "-0J-8eanO0GT",
        "outputId": "47a7ef31-e314-44ec-eb66-f66c06ee262e"
      },
      "outputs": [
        {
          "name": "stdout",
          "output_type": "stream",
          "text": [
            "Mounted at /content/drive\n"
          ]
        }
      ],
      "source": [
        "# Load the Drive helper and mount\n",
        "from google.colab import drive\n",
        "\n",
        "# This will prompt for authorization.\n",
        "drive.mount('/content/drive')"
      ]
    },
    {
      "cell_type": "code",
      "execution_count": null,
      "metadata": {
        "id": "Du8VQ73XzRyN"
      },
      "outputs": [],
      "source": [
        "default_image_size = tuple((128, 128))\n",
        "## Function to convert image to array of 348 X 348\n",
        "def convert_image_to_array(image_dir):\n",
        "    try:\n",
        "        image = cv2.imread(image_dir)\n",
        "        if image is not None :\n",
        "            image = cv2.resize(image, default_image_size)\n",
        "            return img_to_array(image)\n",
        "        else :\n",
        "            return np.array([])\n",
        "    except Exception as e:\n",
        "        print(f\"Error : {e}\")\n",
        "        return None"
      ]
    },
    {
      "cell_type": "code",
      "execution_count": null,
      "metadata": {
        "colab": {
          "background_save": true
        },
        "id": "p09iU6jO4Ia4"
      },
      "outputs": [],
      "source": [
        "e_lables = pd.read_csv(\"/content/drive/MyDrive/Colab Notebooks/GroceryStoreDataset-master/dataset/classes.csv\")\n",
        "\n",
        "image_list_a, label_list = [], []\n",
        "class_distribution = {0:0, 1:0, 2:0, 3:0, 4:0, 5:0, 6:0, 7:0, 8:0, 9:0, 10:0, 11:0, 12:0, 13:0, 14:0, 15:0, 16:0, 17:0, 18:0, 19:0, 20:0, 21:0, 22:0, 23:0, 24:0, 25:0, 26:0, 27:0, 28:0, 29:0, 30:0,\n",
        "                      31:0, 32:0, 33:0, 34:0, 35:0, 36:0, 37:0, 38:0, 39:0, 40:0, 41:0, 42:0, 43:0, 44:0, 45:0, 46:0, 47:0, 48:0, 49:0, 50:0, 51:0, 52:0, 53:0, 54:0, 55:0, 56:0, 57:0, 58:0, 59:0, 60:0, \n",
        "                      61:0, 62:0, 63:0, 64:0, 65:0, 66:0, 67:0, 68:0, 69:0, 70:0, 71:0, 72:0, 73:0, 74:0, 75:0, 76:0, 77:0, 78:0, 79:0, 80:0}\n",
        "\n",
        "totalImage = 0  # it is used to control total number of images for each class\n",
        "\n",
        "root_dir = listdir(\"/content/drive/MyDrive/Colab Notebooks/GroceryStoreDataset-master/dataset/train\") # Specify location of plant images\n",
        "\n",
        "for image_folder in root_dir :  # Look for each folder\n",
        "    # Look for All images in each folder\n",
        "    \n",
        "    \n",
        "    image_list = listdir(f\"/content/drive/MyDrive/Colab Notebooks/GroceryStoreDataset-master/dataset/train/{image_folder}\")\n",
        "#     print(image_list)\n",
        "\n",
        "    for image in image_list:\n",
        "          \n",
        "        image_sub_cat = listdir(f\"/content/drive/MyDrive/Colab Notebooks/GroceryStoreDataset-master/dataset/train/{image_folder}/{image}\")\n",
        "#         print(image_sub_cat)\n",
        "     \n",
        "        for image_sub_cat_name in image_sub_cat:\n",
        "        \n",
        "#             print(image_sub_cat_name)\n",
        "            path  = f\"/content/drive/MyDrive/Colab Notebooks/GroceryStoreDataset-master/dataset/train/{image_folder}/{image}/{image_sub_cat_name}\"\n",
        "            \n",
        "            if os.path.isdir(path):  \n",
        "                image_sub_cat_name_jpg = listdir(f\"/content/drive/MyDrive/Colab Notebooks/GroceryStoreDataset-master/dataset/train/{image_folder}/{image}/{image_sub_cat_name}\")\n",
        "                \n",
        "#                 print(image_sub_cat_name_jpg)\n",
        "\n",
        "                for image_name in image_sub_cat_name_jpg:\n",
        "#                     print(image_sub_cat_name)\n",
        "\n",
        "#                     print(label_list.append(e_lables.loc[e_lables['Class'] == image_sub_cat_name].Class_ID.iloc[0]))\n",
        "                    label_list.append(e_lables.loc[e_lables['Class'] == image_sub_cat_name].Class_ID.iloc[0])\n",
        "                    class_distribution[e_lables.loc[e_lables['Class'] == image_sub_cat_name].Class_ID.iloc[0]]+=1;\n",
        "                    if image_name.endswith(\".jpg\") == True or image_name.endswith(\".JPG\") == True or image_name.endswith(\".jpeg\") or image_name.endswith(\".JPEG\"):\n",
        "                        image_full_path = f\"/content/drive/MyDrive/Colab Notebooks/GroceryStoreDataset-master/dataset/train/{image_folder}/{image}/{image_sub_cat_name}/{image_name}\"\n",
        "                        image_list_a.append(convert_image_to_array(image_full_path))\n",
        "\n",
        "            if os.path.isfile(path):\n",
        "                #print(image_sub_cat_name)\n",
        "                label_list.append(e_lables.loc[e_lables['Class'] == image].Class_ID.iloc[0])\n",
        "                class_distribution[e_lables.loc[e_lables['Class'] == image].Class_ID.iloc[0]]+=1\n",
        "                \n",
        "                if image_sub_cat_name.endswith(\".jpg\") == True or image_sub_cat_name.endswith(\".JPG\") == True or image_sub_cat_name.endswith(\".jpeg\") or image_sub_cat_name.endswith(\".JPEG\"):\n",
        "                        image_full_path = f\"/content/drive/MyDrive/Colab Notebooks/GroceryStoreDataset-master/dataset/train/{image_folder}/{image}/{image_sub_cat_name}\"\n",
        "                        image_list_a.append(convert_image_to_array(image_full_path))\n",
        "                        \n",
        "\n",
        "# Convert images_list_a and lable_list to numpy array\n",
        "image_list_a = np.asarray(image_list_a)\n",
        "label_list = np.asarray(label_list)\n",
        "#print(label_list)"
      ]
    },
    {
      "cell_type": "code",
      "execution_count": null,
      "metadata": {
        "colab": {
          "background_save": true
        },
        "id": "f2tHlfinqqKL",
        "outputId": "b1c8b614-809e-4518-d36a-ae4a3c917087"
      },
      "outputs": [
        {
          "name": "stdout",
          "output_type": "stream",
          "text": [
            "(18287, 128, 128, 3)\n",
            "(18287,)\n"
          ]
        }
      ],
      "source": [
        "print(image_list_a.shape)\n",
        "print(label_list.shape)"
      ]
    },
    {
      "cell_type": "code",
      "source": [
        "print(class_distribution)"
      ],
      "metadata": {
        "id": "XdXE7un1LbVs"
      },
      "execution_count": null,
      "outputs": []
    },
    {
      "cell_type": "code",
      "execution_count": null,
      "metadata": {
        "id": "MLPa1ASnqqRl"
      },
      "outputs": [],
      "source": [
        "f = open(\"class_distribution.csv\", \"w\")\n",
        "f.write(class_distribution)\n",
        "f.close()"
      ]
    },
    {
      "cell_type": "code",
      "execution_count": null,
      "metadata": {
        "id": "Q3XSXKDA6kbU"
      },
      "outputs": [],
      "source": [
        "x_train, x_test, y_train, y_test = train_test_split(image_list_a, label_list, test_size=0.3, random_state = 42)"
      ]
    },
    {
      "cell_type": "code",
      "execution_count": null,
      "metadata": {
        "colab": {
          "base_uri": "https://localhost:8080/"
        },
        "id": "I5FPfI_f6oMP",
        "outputId": "faae1f8e-4b6c-44f5-f406-93c1b4ae8730"
      },
      "outputs": [
        {
          "name": "stdout",
          "output_type": "stream",
          "text": [
            "Total number of outputs :  31\n",
            "Output classes :  [ 0  1  2  3  5  6  7  8  9 10 12 15 16 17 18 19 23 24 25 26 27 59 60 61\n",
            " 62 63 64 65 66 76 80]\n",
            "(12800, 128, 128, 3)\n",
            "(5487, 128, 128, 3)\n"
          ]
        }
      ],
      "source": [
        "classes = np.unique(y_train)\n",
        "nClasses = len(classes)\n",
        "print('Total number of outputs : ', nClasses)\n",
        "print('Output classes : ', classes)\n",
        "\n",
        "y_train = np_utils.to_categorical(y_train)\n",
        "y_test = np_utils.to_categorical(y_test)\n",
        "\n",
        "x_train = x_train / 255.0\n",
        "x_test = x_test / 255.0\n",
        "print(x_train.shape)\n",
        "print(x_test.shape)"
      ]
    },
    {
      "cell_type": "code",
      "execution_count": null,
      "metadata": {
        "id": "iho5CtR46tg2"
      },
      "outputs": [],
      "source": [
        "input_shape = (128, 128, 3)\n",
        "batch_size = 128\n",
        "kernel_size = 3\n",
        "pool_size = 2\n",
        "filters = 128\n",
        "dropout = 0.2\n",
        "\n",
        "model = Sequential()\n",
        "model.add(Conv2D(filters=32,\n",
        "                 kernel_size=kernel_size,\n",
        "                 activation='relu',\n",
        "                 input_shape=input_shape))\n",
        "model.add(MaxPooling2D(pool_size))\n",
        "model.add(Conv2D(filters=64,\n",
        "                 kernel_size=kernel_size,\n",
        "                 activation='relu'))\n",
        "model.add(MaxPooling2D(pool_size))\n",
        "model.add(Conv2D(filters=128,\n",
        "                 kernel_size=kernel_size,\n",
        "                 activation='relu'))\n",
        "model.add(MaxPooling2D(pool_size))\n",
        "model.add(Conv2D(filters=128,\n",
        "                 kernel_size=kernel_size,\n",
        "                 activation='relu'))\n",
        "model.add(MaxPooling2D(pool_size))\n",
        "model.add(Conv2D(filters=256,\n",
        "                 kernel_size=kernel_size,\n",
        "                 activation='relu'))\n",
        "model.add(Flatten())\n",
        "# dropout added as regularizer\n",
        "model.add(Dropout(dropout))\n",
        "# output layer is 10-dim one-hot vector\n",
        "\n",
        "model.add(Dense(162))               \n",
        "model.add(Activation('relu'))\n",
        "model.add(Dropout(dropout))\n",
        "model.add(Dense(162))\n",
        "model.add(Activation('relu'))\n",
        "model.add(Dropout(dropout))\n",
        "\n",
        "model.add(Dense(81))\n",
        "model.add(Activation('softmax'))"
      ]
    },
    {
      "cell_type": "code",
      "execution_count": null,
      "metadata": {
        "id": "Fbm-RTIW8UmE"
      },
      "outputs": [],
      "source": [
        "model.compile(optimizer='adam', \n",
        "              loss='categorical_crossentropy',\n",
        "              metrics=['accuracy'])\n"
      ]
    },
    {
      "cell_type": "code",
      "execution_count": null,
      "metadata": {
        "id": "rTBZA8X38abI"
      },
      "outputs": [],
      "source": [
        "history = model.fit(x_train, y_train, epochs=40, batch_size=batch_size,validation_data=(x_test,y_test))"
      ]
    },
    {
      "cell_type": "code",
      "execution_count": null,
      "metadata": {
        "id": "zObF5-zaI4v-"
      },
      "outputs": [],
      "source": [
        "plt.plot(history.history['accuracy'])\n",
        "plt.plot(history.history['val_accuracy'])\n",
        "plt.plot(history.history['loss'],'--')\n",
        "plt.plot(history.history['val_loss'], '--')\n",
        "plt.title('model accuracy/loss')\n",
        "plt.ylabel('accuracy/loss')\n",
        "plt.xlabel('epoch')\n",
        "plt.legend(['train_acc', 'test_acc', 'train_loss', 'test_loss'], loc='upper left')\n",
        "plt.show()"
      ]
    },
    {
      "cell_type": "code",
      "execution_count": null,
      "metadata": {
        "id": "bNg1HKWSJczE"
      },
      "outputs": [],
      "source": [
        "model.evaluate(x_test,y_test)"
      ]
    },
    {
      "cell_type": "code",
      "execution_count": null,
      "metadata": {
        "colab": {
          "base_uri": "https://localhost:8080/"
        },
        "id": "8qELFKqCmIep",
        "outputId": "aa3ee4f4-5982-4da7-e4d0-83157bd4db08"
      },
      "outputs": [
        {
          "name": "stdout",
          "output_type": "stream",
          "text": [
            "MemTotal:       13302920 kB\n",
            "MemFree:        10742524 kB\n",
            "MemAvailable:   11581732 kB\n",
            "Buffers:           61468 kB\n",
            "Cached:           902304 kB\n",
            "SwapCached:            0 kB\n",
            "Active:          1450964 kB\n",
            "Inactive:         828248 kB\n",
            "Active(anon):    1244752 kB\n",
            "Inactive(anon):      452 kB\n",
            "Active(file):     206212 kB\n",
            "Inactive(file):   827796 kB\n",
            "Unevictable:           0 kB\n",
            "Mlocked:               0 kB\n",
            "SwapTotal:             0 kB\n",
            "SwapFree:              0 kB\n",
            "Dirty:               652 kB\n",
            "Writeback:             0 kB\n",
            "AnonPages:       1315384 kB\n",
            "Mapped:           176092 kB\n",
            "Shmem:              1196 kB\n",
            "KReclaimable:      93352 kB\n",
            "Slab:             151068 kB\n",
            "SReclaimable:      93352 kB\n",
            "SUnreclaim:        57716 kB\n",
            "KernelStack:       21968 kB\n",
            "PageTables:        15260 kB\n",
            "NFS_Unstable:          0 kB\n",
            "Bounce:                0 kB\n",
            "WritebackTmp:          0 kB\n",
            "CommitLimit:     6651460 kB\n",
            "Committed_AS:    4445780 kB\n",
            "VmallocTotal:   34359738367 kB\n",
            "VmallocUsed:       62076 kB\n",
            "VmallocChunk:          0 kB\n",
            "Percpu:             1448 kB\n",
            "AnonHugePages:         0 kB\n",
            "ShmemHugePages:        0 kB\n",
            "ShmemPmdMapped:        0 kB\n",
            "FileHugePages:         0 kB\n",
            "FilePmdMapped:         0 kB\n",
            "CmaTotal:              0 kB\n",
            "CmaFree:               0 kB\n",
            "HugePages_Total:       0\n",
            "HugePages_Free:        0\n",
            "HugePages_Rsvd:        0\n",
            "HugePages_Surp:        0\n",
            "Hugepagesize:       2048 kB\n",
            "Hugetlb:               0 kB\n",
            "DirectMap4k:      215872 kB\n",
            "DirectMap2M:     6072320 kB\n",
            "DirectMap1G:     9437184 kB\n"
          ]
        }
      ],
      "source": [
        "!cat /proc/meminfo"
      ]
    }
  ],
  "metadata": {
    "colab": {
      "name": "Train.ipynb",
      "provenance": []
    },
    "kernelspec": {
      "display_name": "Python 3",
      "name": "python3"
    },
    "language_info": {
      "name": "python"
    }
  },
  "nbformat": 4,
  "nbformat_minor": 0
}